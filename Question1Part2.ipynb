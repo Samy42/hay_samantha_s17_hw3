{
 "cells": [
  {
   "cell_type": "code",
   "execution_count": 1,
   "metadata": {
    "collapsed": true
   },
   "outputs": [],
   "source": [
    "import pandas\n",
    "import numpy"
   ]
  },
  {
   "cell_type": "code",
   "execution_count": 2,
   "metadata": {
    "collapsed": true
   },
   "outputs": [],
   "source": [
    "# import csv\n",
    "df = pandas.read_csv('./Data/vehicle_collisions.csv')"
   ]
  },
  {
   "cell_type": "code",
   "execution_count": 3,
   "metadata": {
    "collapsed": true
   },
   "outputs": [],
   "source": [
    "# remove unnecessary columns from data\n",
    "df.drop(df.columns[0:3], axis = 1, inplace = True)\n",
    "df.drop(df.columns[1:16], axis = 1, inplace = True)\n",
    "df.drop(df.columns[-5:], axis = 1, inplace = True)"
   ]
  },
  {
   "cell_type": "code",
   "execution_count": 4,
   "metadata": {
    "collapsed": false
   },
   "outputs": [],
   "source": [
    "#group the data by the borough\n",
    "data = df.groupby('BOROUGH')\n",
    "data = data.count()"
   ]
  },
  {
   "cell_type": "code",
   "execution_count": 5,
   "metadata": {
    "collapsed": false
   },
   "outputs": [
    {
     "data": {
      "text/html": [
       "<div>\n",
       "<table border=\"1\" class=\"dataframe\">\n",
       "  <thead>\n",
       "    <tr style=\"text-align: right;\">\n",
       "      <th></th>\n",
       "      <th>ONE_VEHICLE_INVOLVED</th>\n",
       "      <th>TWO_VEHICLES_INVOLVED</th>\n",
       "      <th>THREE_VEHICLES_INVOLVED</th>\n",
       "      <th>MORE_VEHICLES_INVOLVED</th>\n",
       "      <th>FIVE_VEHICLES_INVOLVED</th>\n",
       "    </tr>\n",
       "    <tr>\n",
       "      <th>BOROUGH</th>\n",
       "      <th></th>\n",
       "      <th></th>\n",
       "      <th></th>\n",
       "      <th></th>\n",
       "      <th></th>\n",
       "    </tr>\n",
       "  </thead>\n",
       "  <tbody>\n",
       "    <tr>\n",
       "      <th>BRONX</th>\n",
       "      <td>45599</td>\n",
       "      <td>36972</td>\n",
       "      <td>2587</td>\n",
       "      <td>625</td>\n",
       "      <td>173</td>\n",
       "    </tr>\n",
       "    <tr>\n",
       "      <th>BROOKLYN</th>\n",
       "      <td>104174</td>\n",
       "      <td>86799</td>\n",
       "      <td>6592</td>\n",
       "      <td>1612</td>\n",
       "      <td>461</td>\n",
       "    </tr>\n",
       "    <tr>\n",
       "      <th>MANHATTAN</th>\n",
       "      <td>82801</td>\n",
       "      <td>69483</td>\n",
       "      <td>2525</td>\n",
       "      <td>501</td>\n",
       "      <td>129</td>\n",
       "    </tr>\n",
       "    <tr>\n",
       "      <th>QUEENS</th>\n",
       "      <td>89140</td>\n",
       "      <td>76178</td>\n",
       "      <td>5918</td>\n",
       "      <td>1420</td>\n",
       "      <td>314</td>\n",
       "    </tr>\n",
       "    <tr>\n",
       "      <th>STATEN ISLAND</th>\n",
       "      <td>13943</td>\n",
       "      <td>11600</td>\n",
       "      <td>924</td>\n",
       "      <td>165</td>\n",
       "      <td>32</td>\n",
       "    </tr>\n",
       "  </tbody>\n",
       "</table>\n",
       "</div>"
      ],
      "text/plain": [
       "               ONE_VEHICLE_INVOLVED  TWO_VEHICLES_INVOLVED  \\\n",
       "BOROUGH                                                      \n",
       "BRONX                         45599                  36972   \n",
       "BROOKLYN                     104174                  86799   \n",
       "MANHATTAN                     82801                  69483   \n",
       "QUEENS                        89140                  76178   \n",
       "STATEN ISLAND                 13943                  11600   \n",
       "\n",
       "               THREE_VEHICLES_INVOLVED  MORE_VEHICLES_INVOLVED  \\\n",
       "BOROUGH                                                          \n",
       "BRONX                             2587                     625   \n",
       "BROOKLYN                          6592                    1612   \n",
       "MANHATTAN                         2525                     501   \n",
       "QUEENS                            5918                    1420   \n",
       "STATEN ISLAND                      924                     165   \n",
       "\n",
       "               FIVE_VEHICLES_INVOLVED  \n",
       "BOROUGH                                \n",
       "BRONX                             173  \n",
       "BROOKLYN                          461  \n",
       "MANHATTAN                         129  \n",
       "QUEENS                            314  \n",
       "STATEN ISLAND                      32  "
      ]
     },
     "execution_count": 5,
     "metadata": {},
     "output_type": "execute_result"
    }
   ],
   "source": [
    "#rename the columns to reflect the number of vehicles involved\n",
    "data.rename(index=str, columns={'VEHICLE 1 TYPE':'ONE_VEHICLE_INVOLVED','VEHICLE 2 TYPE':'TWO_VEHICLES_INVOLVED','VEHICLE 3 TYPE':'THREE_VEHICLES_INVOLVED','VEHICLE 4 TYPE':'MORE_VEHICLES_INVOLVED','VEHICLE 5 TYPE':'FIVE_VEHICLES_INVOLVED'},inplace = True)"
   ]
  },
  {
   "cell_type": "code",
   "execution_count": 6,
   "metadata": {
    "collapsed": false
   },
   "outputs": [],
   "source": [
    "#data was in num(or more) involved so subtracting next column from each entry\n",
    "data['ONE_VEHICLE_INVOLVED'] = data['ONE_VEHICLE_INVOLVED'] - data['TWO_VEHICLES_INVOLVED']\n",
    "data['TWO_VEHICLES_INVOLVED'] = data['TWO_VEHICLES_INVOLVED'] - data['THREE_VEHICLES_INVOLVED']\n",
    "data['THREE_VEHICLES_INVOLVED'] = data['THREE_VEHICLES_INVOLVED'] - data['MORE_VEHICLES_INVOLVED']"
   ]
  },
  {
   "cell_type": "code",
   "execution_count": 7,
   "metadata": {
    "collapsed": false
   },
   "outputs": [],
   "source": [
    "#remove last column as that is not necessary\n",
    "data.drop('FIVE_VEHICLES_INVOLVED',axis=1, inplace = True)"
   ]
  },
  {
   "cell_type": "code",
   "execution_count": 8,
   "metadata": {
    "collapsed": false
   },
   "outputs": [],
   "source": [
    "#print the data to a csv file\n",
    "data.to_csv('./Output/Question1Part2Output.csv')"
   ]
  },
  {
   "cell_type": "code",
   "execution_count": 10,
   "metadata": {
    "collapsed": false
   },
   "outputs": [
    {
     "data": {
      "text/html": [
       "<div>\n",
       "<table border=\"1\" class=\"dataframe\">\n",
       "  <thead>\n",
       "    <tr style=\"text-align: right;\">\n",
       "      <th></th>\n",
       "      <th>ONE_VEHICLE_INVOLVED</th>\n",
       "      <th>TWO_VEHICLES_INVOLVED</th>\n",
       "      <th>THREE_VEHICLES_INVOLVED</th>\n",
       "      <th>MORE_VEHICLES_INVOLVED</th>\n",
       "    </tr>\n",
       "    <tr>\n",
       "      <th>BOROUGH</th>\n",
       "      <th></th>\n",
       "      <th></th>\n",
       "      <th></th>\n",
       "      <th></th>\n",
       "    </tr>\n",
       "  </thead>\n",
       "  <tbody>\n",
       "    <tr>\n",
       "      <th>BRONX</th>\n",
       "      <td>8627</td>\n",
       "      <td>34385</td>\n",
       "      <td>1962</td>\n",
       "      <td>625</td>\n",
       "    </tr>\n",
       "    <tr>\n",
       "      <th>BROOKLYN</th>\n",
       "      <td>17375</td>\n",
       "      <td>80207</td>\n",
       "      <td>4980</td>\n",
       "      <td>1612</td>\n",
       "    </tr>\n",
       "    <tr>\n",
       "      <th>MANHATTAN</th>\n",
       "      <td>13318</td>\n",
       "      <td>66958</td>\n",
       "      <td>2024</td>\n",
       "      <td>501</td>\n",
       "    </tr>\n",
       "    <tr>\n",
       "      <th>QUEENS</th>\n",
       "      <td>12962</td>\n",
       "      <td>70260</td>\n",
       "      <td>4498</td>\n",
       "      <td>1420</td>\n",
       "    </tr>\n",
       "    <tr>\n",
       "      <th>STATEN ISLAND</th>\n",
       "      <td>2343</td>\n",
       "      <td>10676</td>\n",
       "      <td>759</td>\n",
       "      <td>165</td>\n",
       "    </tr>\n",
       "  </tbody>\n",
       "</table>\n",
       "</div>"
      ],
      "text/plain": [
       "               ONE_VEHICLE_INVOLVED  TWO_VEHICLES_INVOLVED  \\\n",
       "BOROUGH                                                      \n",
       "BRONX                          8627                  34385   \n",
       "BROOKLYN                      17375                  80207   \n",
       "MANHATTAN                     13318                  66958   \n",
       "QUEENS                        12962                  70260   \n",
       "STATEN ISLAND                  2343                  10676   \n",
       "\n",
       "               THREE_VEHICLES_INVOLVED  MORE_VEHICLES_INVOLVED  \n",
       "BOROUGH                                                         \n",
       "BRONX                             1962                     625  \n",
       "BROOKLYN                          4980                    1612  \n",
       "MANHATTAN                         2024                     501  \n",
       "QUEENS                            4498                    1420  \n",
       "STATEN ISLAND                      759                     165  "
      ]
     },
     "execution_count": 10,
     "metadata": {},
     "output_type": "execute_result"
    }
   ],
   "source": [
    "#print the first few rows to verify output\n",
    "data.head()"
   ]
  }
 ],
 "metadata": {
  "anaconda-cloud": {},
  "kernelspec": {
   "display_name": "Python [default]",
   "language": "python",
   "name": "python3"
  },
  "language_info": {
   "codemirror_mode": {
    "name": "ipython",
    "version": 3
   },
   "file_extension": ".py",
   "mimetype": "text/x-python",
   "name": "python",
   "nbconvert_exporter": "python",
   "pygments_lexer": "ipython3",
   "version": "3.5.2"
  }
 },
 "nbformat": 4,
 "nbformat_minor": 1
}
