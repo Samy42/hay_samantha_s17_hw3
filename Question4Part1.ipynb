{
 "cells": [
  {
   "cell_type": "code",
   "execution_count": 3,
   "metadata": {
    "collapsed": true
   },
   "outputs": [],
   "source": [
    "import pandas\n",
    "import numpy\n",
    "import re"
   ]
  },
  {
   "cell_type": "code",
   "execution_count": 5,
   "metadata": {
    "collapsed": false
   },
   "outputs": [],
   "source": [
    "df = pandas.read_csv('./Data/movies_awards.csv')"
   ]
  },
  {
   "cell_type": "code",
   "execution_count": 57,
   "metadata": {
    "collapsed": false
   },
   "outputs": [
    {
     "data": {
      "text/html": [
       "<div>\n",
       "<table border=\"1\" class=\"dataframe\">\n",
       "  <thead>\n",
       "    <tr style=\"text-align: right;\">\n",
       "      <th></th>\n",
       "      <th>Title</th>\n",
       "      <th>Awards</th>\n",
       "      <th>Awards_won</th>\n",
       "      <th>Awards_Nominated</th>\n",
       "      <th>Prime_Awards_won</th>\n",
       "      <th>Prime_Awards_nominated</th>\n",
       "      <th>Oscar_Awards_won</th>\n",
       "      <th>Oscar_Awards_nominated</th>\n",
       "      <th>Golden_Globe_Awards_won</th>\n",
       "      <th>Golden_Globe_Awards_nominated</th>\n",
       "      <th>BAFTA_Awards_won</th>\n",
       "      <th>BAFTA_Awards_nominated</th>\n",
       "    </tr>\n",
       "  </thead>\n",
       "  <tbody>\n",
       "    <tr>\n",
       "      <th>0</th>\n",
       "      <td>Book of Love: The Definitive Reason Why Men Ar...</td>\n",
       "      <td>NaN</td>\n",
       "      <td></td>\n",
       "      <td></td>\n",
       "      <td></td>\n",
       "      <td></td>\n",
       "      <td></td>\n",
       "      <td></td>\n",
       "      <td></td>\n",
       "      <td></td>\n",
       "      <td></td>\n",
       "      <td></td>\n",
       "    </tr>\n",
       "    <tr>\n",
       "      <th>1</th>\n",
       "      <td>Anderssons älskarinna</td>\n",
       "      <td>NaN</td>\n",
       "      <td></td>\n",
       "      <td></td>\n",
       "      <td></td>\n",
       "      <td></td>\n",
       "      <td></td>\n",
       "      <td></td>\n",
       "      <td></td>\n",
       "      <td></td>\n",
       "      <td></td>\n",
       "      <td></td>\n",
       "    </tr>\n",
       "    <tr>\n",
       "      <th>2</th>\n",
       "      <td>Bad Blood</td>\n",
       "      <td>NaN</td>\n",
       "      <td></td>\n",
       "      <td></td>\n",
       "      <td></td>\n",
       "      <td></td>\n",
       "      <td></td>\n",
       "      <td></td>\n",
       "      <td></td>\n",
       "      <td></td>\n",
       "      <td></td>\n",
       "      <td></td>\n",
       "    </tr>\n",
       "    <tr>\n",
       "      <th>3</th>\n",
       "      <td>Who Are You?</td>\n",
       "      <td>1 win &amp; 2 nominations.</td>\n",
       "      <td></td>\n",
       "      <td></td>\n",
       "      <td></td>\n",
       "      <td></td>\n",
       "      <td></td>\n",
       "      <td></td>\n",
       "      <td></td>\n",
       "      <td></td>\n",
       "      <td></td>\n",
       "      <td></td>\n",
       "    </tr>\n",
       "    <tr>\n",
       "      <th>4</th>\n",
       "      <td>Skeletons in the Closet</td>\n",
       "      <td>1 win.</td>\n",
       "      <td></td>\n",
       "      <td></td>\n",
       "      <td></td>\n",
       "      <td></td>\n",
       "      <td></td>\n",
       "      <td></td>\n",
       "      <td></td>\n",
       "      <td></td>\n",
       "      <td></td>\n",
       "      <td></td>\n",
       "    </tr>\n",
       "  </tbody>\n",
       "</table>\n",
       "</div>"
      ],
      "text/plain": [
       "                                               Title                  Awards  \\\n",
       "0  Book of Love: The Definitive Reason Why Men Ar...                     NaN   \n",
       "1                              Anderssons älskarinna                     NaN   \n",
       "2                                          Bad Blood                     NaN   \n",
       "3                                       Who Are You?  1 win & 2 nominations.   \n",
       "4                            Skeletons in the Closet                  1 win.   \n",
       "\n",
       "  Awards_won Awards_Nominated Prime_Awards_won Prime_Awards_nominated  \\\n",
       "0                                                                       \n",
       "1                                                                       \n",
       "2                                                                       \n",
       "3                                                                       \n",
       "4                                                                       \n",
       "\n",
       "  Oscar_Awards_won Oscar_Awards_nominated Golden_Globe_Awards_won  \\\n",
       "0                                                                   \n",
       "1                                                                   \n",
       "2                                                                   \n",
       "3                                                                   \n",
       "4                                                                   \n",
       "\n",
       "  Golden_Globe_Awards_nominated BAFTA_Awards_won BAFTA_Awards_nominated  \n",
       "0                                                                        \n",
       "1                                                                        \n",
       "2                                                                        \n",
       "3                                                                        \n",
       "4                                                                        "
      ]
     },
     "execution_count": 57,
     "metadata": {},
     "output_type": "execute_result"
    }
   ],
   "source": [
    "df.drop(df.columns[0:5], axis = 1, inplace = True)\n",
    "df.drop(df.columns[1:10], axis = 1, inplace = True)\n",
    "df.drop(df.columns[2:7], axis = 1, inplace = True)\n",
    "df.head()"
   ]
  },
  {
   "cell_type": "code",
   "execution_count": 39,
   "metadata": {
    "collapsed": true
   },
   "outputs": [],
   "source": [
    "def extractAwards(awardString):\n",
    "    #split string into substrings\n",
    "    awardString = awardString.replace('. ',',')\n",
    "    awardString = awardString.replace('& ',',')\n",
    "    awardString = awardString.split(',')\n",
    "    \n",
    "    \n",
    "    return [intrepretAward(a) for a in awardString]"
   ]
  },
  {
   "cell_type": "code",
   "execution_count": 51,
   "metadata": {
    "collapsed": false
   },
   "outputs": [],
   "source": [
    "def intrepretAward(awardSubString):\n",
    "    #split string into words\n",
    "    words = awardSubString.split(' ')\n",
    "    winType = 'win(s)'\n",
    "    number = 0\n",
    "    \n",
    "    #make strings lowercase to limit iterations\n",
    "    #also deletes trailing period and finds the number of awards\n",
    "    for w in range(len(words)):\n",
    "        if len(words[w]):\n",
    "            words[w] = words[w].lower()\n",
    "            if words[w][-1] == '.':\n",
    "                words[w].replace('.','')\n",
    "            if words[w].isdigit():\n",
    "                number = words[w]\n",
    "    \n",
    "    #determine award type\n",
    "    awardType = 'unknown'\n",
    "    if words.count('primetime'):\n",
    "        awardType = 'Prime'\n",
    "    if words.count('oscar') or words.count('oscars'):\n",
    "        awardType = 'Oscars'\n",
    "    if words.count('golden'):\n",
    "        awardType = 'Golden' \n",
    "    if words.count('bafta'):\n",
    "        awardType = 'BAFTA'\n",
    "    \n",
    "    \n",
    "    #wins or nominations\n",
    "    if words.count('nomination') or words.count('nominations') or words.count('nominated'):\n",
    "        winType = 'nomination(s)'\n",
    "            \n",
    "    return [awardType,winType,number]"
   ]
  },
  {
   "cell_type": "code",
   "execution_count": 55,
   "metadata": {
    "collapsed": true
   },
   "outputs": [],
   "source": [
    "df['Awards_won'] = ''\n",
    "df['Awards_nominated'] = ''\n",
    "df['Prime_Awards_won'] = ''\n",
    "df['Prime_Awards_nominated'] = ''\n",
    "df['Oscar_Awards_won'] = ''\n",
    "df['Oscar_Awards_nominated'] = ''\n",
    "df['Golden_Globe_Awards_won'] = ''\n",
    "df['Golden_Globe_Awards_nominated'] = ''\n",
    "df['BAFTA_Awards_won'] = ''\n",
    "df['BAFTA_Awards_nominated'] = ''"
   ]
  },
  {
   "cell_type": "code",
   "execution_count": 56,
   "metadata": {
    "collapsed": false
   },
   "outputs": [
    {
     "data": {
      "text/html": [
       "<div>\n",
       "<table border=\"1\" class=\"dataframe\">\n",
       "  <thead>\n",
       "    <tr style=\"text-align: right;\">\n",
       "      <th></th>\n",
       "      <th>totalSeasons</th>\n",
       "      <th>Plot</th>\n",
       "      <th>Rated</th>\n",
       "      <th>Response</th>\n",
       "      <th>Language</th>\n",
       "      <th>Title</th>\n",
       "      <th>Country</th>\n",
       "      <th>Writer</th>\n",
       "      <th>Metascore</th>\n",
       "      <th>imdbRating</th>\n",
       "      <th>...</th>\n",
       "      <th>Awards_won</th>\n",
       "      <th>Awards_Nominated</th>\n",
       "      <th>Prime_Awards_won</th>\n",
       "      <th>Prime_Awards_nominated</th>\n",
       "      <th>Oscar_Awards_won</th>\n",
       "      <th>Oscar_Awards_nominated</th>\n",
       "      <th>Golden_Globe_Awards_won</th>\n",
       "      <th>Golden_Globe_Awards_nominated</th>\n",
       "      <th>BAFTA_Awards_won</th>\n",
       "      <th>BAFTA_Awards_nominated</th>\n",
       "    </tr>\n",
       "  </thead>\n",
       "  <tbody>\n",
       "    <tr>\n",
       "      <th>0</th>\n",
       "      <td>none</td>\n",
       "      <td>NaN</td>\n",
       "      <td>NaN</td>\n",
       "      <td>True</td>\n",
       "      <td>English</td>\n",
       "      <td>Book of Love: The Definitive Reason Why Men Ar...</td>\n",
       "      <td>USA</td>\n",
       "      <td>Jeffrey W. Byrd; Eric George</td>\n",
       "      <td>NaN</td>\n",
       "      <td>6.6</td>\n",
       "      <td>...</td>\n",
       "      <td></td>\n",
       "      <td></td>\n",
       "      <td></td>\n",
       "      <td></td>\n",
       "      <td></td>\n",
       "      <td></td>\n",
       "      <td></td>\n",
       "      <td></td>\n",
       "      <td></td>\n",
       "      <td></td>\n",
       "    </tr>\n",
       "    <tr>\n",
       "      <th>1</th>\n",
       "      <td>none</td>\n",
       "      <td>NaN</td>\n",
       "      <td>NaN</td>\n",
       "      <td>True</td>\n",
       "      <td>Swedish</td>\n",
       "      <td>Anderssons älskarinna</td>\n",
       "      <td>Sweden</td>\n",
       "      <td>NaN</td>\n",
       "      <td>NaN</td>\n",
       "      <td>7.4</td>\n",
       "      <td>...</td>\n",
       "      <td></td>\n",
       "      <td></td>\n",
       "      <td></td>\n",
       "      <td></td>\n",
       "      <td></td>\n",
       "      <td></td>\n",
       "      <td></td>\n",
       "      <td></td>\n",
       "      <td></td>\n",
       "      <td></td>\n",
       "    </tr>\n",
       "    <tr>\n",
       "      <th>2</th>\n",
       "      <td>none</td>\n",
       "      <td>NaN</td>\n",
       "      <td>NaN</td>\n",
       "      <td>True</td>\n",
       "      <td>English</td>\n",
       "      <td>Bad Blood</td>\n",
       "      <td>UK</td>\n",
       "      <td>Tony Marchant</td>\n",
       "      <td>NaN</td>\n",
       "      <td>5.6</td>\n",
       "      <td>...</td>\n",
       "      <td></td>\n",
       "      <td></td>\n",
       "      <td></td>\n",
       "      <td></td>\n",
       "      <td></td>\n",
       "      <td></td>\n",
       "      <td></td>\n",
       "      <td></td>\n",
       "      <td></td>\n",
       "      <td></td>\n",
       "    </tr>\n",
       "    <tr>\n",
       "      <th>3</th>\n",
       "      <td>none</td>\n",
       "      <td>A historical classic drama in three acts; reto...</td>\n",
       "      <td>NaN</td>\n",
       "      <td>True</td>\n",
       "      <td>Portuguese</td>\n",
       "      <td>Who Are You?</td>\n",
       "      <td>Portugal</td>\n",
       "      <td>João Botelho; Almeida Garrett (play)</td>\n",
       "      <td>NaN</td>\n",
       "      <td>6.1</td>\n",
       "      <td>...</td>\n",
       "      <td></td>\n",
       "      <td></td>\n",
       "      <td></td>\n",
       "      <td></td>\n",
       "      <td></td>\n",
       "      <td></td>\n",
       "      <td></td>\n",
       "      <td></td>\n",
       "      <td></td>\n",
       "      <td></td>\n",
       "    </tr>\n",
       "    <tr>\n",
       "      <th>4</th>\n",
       "      <td>none</td>\n",
       "      <td>A father (Williams) suspects his son (Jackson)...</td>\n",
       "      <td>R</td>\n",
       "      <td>True</td>\n",
       "      <td>English</td>\n",
       "      <td>Skeletons in the Closet</td>\n",
       "      <td>USA</td>\n",
       "      <td>Donna Powers; Wayne Powers</td>\n",
       "      <td>NaN</td>\n",
       "      <td>5.4</td>\n",
       "      <td>...</td>\n",
       "      <td></td>\n",
       "      <td></td>\n",
       "      <td></td>\n",
       "      <td></td>\n",
       "      <td></td>\n",
       "      <td></td>\n",
       "      <td></td>\n",
       "      <td></td>\n",
       "      <td></td>\n",
       "      <td></td>\n",
       "    </tr>\n",
       "  </tbody>\n",
       "</table>\n",
       "<p>5 rows × 31 columns</p>\n",
       "</div>"
      ],
      "text/plain": [
       "  totalSeasons                                               Plot Rated  \\\n",
       "0         none                                                NaN   NaN   \n",
       "1         none                                                NaN   NaN   \n",
       "2         none                                                NaN   NaN   \n",
       "3         none  A historical classic drama in three acts; reto...   NaN   \n",
       "4         none  A father (Williams) suspects his son (Jackson)...     R   \n",
       "\n",
       "  Response    Language                                              Title  \\\n",
       "0     True     English  Book of Love: The Definitive Reason Why Men Ar...   \n",
       "1     True     Swedish                              Anderssons älskarinna   \n",
       "2     True     English                                          Bad Blood   \n",
       "3     True  Portuguese                                       Who Are You?   \n",
       "4     True     English                            Skeletons in the Closet   \n",
       "\n",
       "    Country                                Writer  Metascore  imdbRating  \\\n",
       "0       USA          Jeffrey W. Byrd; Eric George        NaN         6.6   \n",
       "1    Sweden                                   NaN        NaN         7.4   \n",
       "2        UK                         Tony Marchant        NaN         5.6   \n",
       "3  Portugal  João Botelho; Almeida Garrett (play)        NaN         6.1   \n",
       "4       USA            Donna Powers; Wayne Powers        NaN         5.4   \n",
       "\n",
       "            ...           Awards_won Awards_Nominated Prime_Awards_won  \\\n",
       "0           ...                                                          \n",
       "1           ...                                                          \n",
       "2           ...                                                          \n",
       "3           ...                                                          \n",
       "4           ...                                                          \n",
       "\n",
       "  Prime_Awards_nominated Oscar_Awards_won Oscar_Awards_nominated  \\\n",
       "0                                                                  \n",
       "1                                                                  \n",
       "2                                                                  \n",
       "3                                                                  \n",
       "4                                                                  \n",
       "\n",
       "  Golden_Globe_Awards_won Golden_Globe_Awards_nominated BAFTA_Awards_won  \\\n",
       "0                                                                          \n",
       "1                                                                          \n",
       "2                                                                          \n",
       "3                                                                          \n",
       "4                                                                          \n",
       "\n",
       "   BAFTA_Awards_nominated  \n",
       "0                          \n",
       "1                          \n",
       "2                          \n",
       "3                          \n",
       "4                          \n",
       "\n",
       "[5 rows x 31 columns]"
      ]
     },
     "execution_count": 56,
     "metadata": {},
     "output_type": "execute_result"
    }
   ],
   "source": [
    "df.head()"
   ]
  },
  {
   "cell_type": "code",
   "execution_count": 49,
   "metadata": {
    "collapsed": false
   },
   "outputs": [
    {
     "data": {
      "text/plain": [
       "[['unknown', 'win(s)', '2']]"
      ]
     },
     "execution_count": 49,
     "metadata": {},
     "output_type": "execute_result"
    }
   ],
   "source": [
    "extractAwards('Another 2 wins ')"
   ]
  },
  {
   "cell_type": "code",
   "execution_count": 52,
   "metadata": {
    "collapsed": false
   },
   "outputs": [],
   "source": [
    "testStrings = ['10 nominations.','7 wins & 14 nominations.','Nominated for 1 Oscar. Another 2 wins & 49 nominations.']\n",
    "for s in range(len(testStrings)):\n",
    "    testStrings[s] = testStrings[s].replace('. ',',')\n",
    "    testStrings[s] = testStrings[s].replace('& ',',')\n",
    "    testStrings[s] = testStrings[s].split(',')"
   ]
  },
  {
   "cell_type": "code",
   "execution_count": 54,
   "metadata": {
    "collapsed": false
   },
   "outputs": [
    {
     "data": {
      "text/plain": [
       "[['Oscars', 'nomination(s)', '1'],\n",
       " ['unknown', 'win(s)', '2'],\n",
       " ['unknown', 'nomination(s)', '49'],\n",
       " ['unknown', 'win(s)', 0]]"
      ]
     },
     "execution_count": 54,
     "metadata": {},
     "output_type": "execute_result"
    }
   ],
   "source": [
    "testStrings = ['10 nominations.','7 wins & 14 nominations.','Nominated for 1 Oscar. Another 2 wins & 49 nominations.']\n",
    "extractAwards(testStrings[2])"
   ]
  },
  {
   "cell_type": "code",
   "execution_count": 58,
   "metadata": {
    "collapsed": false
   },
   "outputs": [
    {
     "data": {
      "text/plain": [
       "'Nominated for 1 Oscar. Another 2 wins & 49 nominations.'"
      ]
     },
     "execution_count": 58,
     "metadata": {},
     "output_type": "execute_result"
    }
   ],
   "source": [
    "testStrings[2]"
   ]
  },
  {
   "cell_type": "code",
   "execution_count": 19,
   "metadata": {
    "collapsed": false
   },
   "outputs": [
    {
     "data": {
      "text/plain": [
       "['10', 'nominations.']"
      ]
     },
     "execution_count": 19,
     "metadata": {},
     "output_type": "execute_result"
    }
   ],
   "source": [
    "testStrings[0][0].split(' ')"
   ]
  }
 ],
 "metadata": {
  "anaconda-cloud": {},
  "kernelspec": {
   "display_name": "Python [conda root]",
   "language": "python",
   "name": "conda-root-py"
  },
  "language_info": {
   "codemirror_mode": {
    "name": "ipython",
    "version": 3
   },
   "file_extension": ".py",
   "mimetype": "text/x-python",
   "name": "python",
   "nbconvert_exporter": "python",
   "pygments_lexer": "ipython3",
   "version": "3.5.2"
  }
 },
 "nbformat": 4,
 "nbformat_minor": 1
}
