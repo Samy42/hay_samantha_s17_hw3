{
 "cells": [
  {
   "cell_type": "code",
   "execution_count": 1,
   "metadata": {
    "collapsed": true
   },
   "outputs": [],
   "source": [
    "import numpy\n",
    "import pandas"
   ]
  },
  {
   "cell_type": "code",
   "execution_count": 2,
   "metadata": {
    "collapsed": false
   },
   "outputs": [],
   "source": [
    "#read in data\n",
    "df = pandas.read_csv('./Data/employee_compensation.csv')"
   ]
  },
  {
   "cell_type": "code",
   "execution_count": 3,
   "metadata": {
    "collapsed": false
   },
   "outputs": [],
   "source": [
    "#identify Fiscal years\n",
    "df['Fiscal'] = df['Year Type'] == 'Fiscal'\n",
    "#delete rows with fiscal year data\n",
    "df = df.drop(df[df['Fiscal']].index)\n",
    "#drop column used to idenfity fiscal rows\n",
    "df.drop(df.columns[-1], axis = 1, inplace = True)"
   ]
  },
  {
   "cell_type": "code",
   "execution_count": 4,
   "metadata": {
    "collapsed": false
   },
   "outputs": [
    {
     "data": {
      "text/html": [
       "<div>\n",
       "<table border=\"1\" class=\"dataframe\">\n",
       "  <thead>\n",
       "    <tr style=\"text-align: right;\">\n",
       "      <th></th>\n",
       "      <th>Job Family</th>\n",
       "      <th>Employee Identifier</th>\n",
       "    </tr>\n",
       "  </thead>\n",
       "  <tbody>\n",
       "    <tr>\n",
       "      <th>0</th>\n",
       "      <td>Journeyman Trade</td>\n",
       "      <td>52206</td>\n",
       "    </tr>\n",
       "    <tr>\n",
       "      <th>2</th>\n",
       "      <td>Management</td>\n",
       "      <td>33958</td>\n",
       "    </tr>\n",
       "    <tr>\n",
       "      <th>3</th>\n",
       "      <td>Legal &amp; Court</td>\n",
       "      <td>33073</td>\n",
       "    </tr>\n",
       "    <tr>\n",
       "      <th>5</th>\n",
       "      <td>Clerical, Secretarial &amp; Steno</td>\n",
       "      <td>23930</td>\n",
       "    </tr>\n",
       "    <tr>\n",
       "      <th>7</th>\n",
       "      <td>Public Service Aide</td>\n",
       "      <td>38054</td>\n",
       "    </tr>\n",
       "  </tbody>\n",
       "</table>\n",
       "</div>"
      ],
      "text/plain": [
       "                      Job Family  Employee Identifier\n",
       "0               Journeyman Trade                52206\n",
       "2                     Management                33958\n",
       "3                  Legal & Court                33073\n",
       "5  Clerical, Secretarial & Steno                23930\n",
       "7            Public Service Aide                38054"
      ]
     },
     "execution_count": 4,
     "metadata": {},
     "output_type": "execute_result"
    }
   ],
   "source": [
    "#create job family lookup table based on employee number\n",
    "employees = df.copy()\n",
    "employees.drop(employees.columns[0:9], axis = 1, inplace = True)\n",
    "employees.drop(employees.columns[1:3], axis = 1, inplace = True)\n",
    "employees.drop(employees.columns[2:11], axis = 1, inplace = True)\n",
    "employees.head()"
   ]
  },
  {
   "cell_type": "code",
   "execution_count": 5,
   "metadata": {
    "collapsed": false
   },
   "outputs": [],
   "source": [
    "# group the data by employee ID number\n",
    "data = df.groupby('Employee Identifier').mean()"
   ]
  },
  {
   "cell_type": "code",
   "execution_count": 6,
   "metadata": {
    "collapsed": true
   },
   "outputs": [],
   "source": [
    "#create a dumplicate of the index value for job family lookup later\n",
    "data['Employee Identifier'] = data['Year'].index"
   ]
  },
  {
   "cell_type": "code",
   "execution_count": 7,
   "metadata": {
    "collapsed": false
   },
   "outputs": [],
   "source": [
    "#calculate 5th percentile of salaries\n",
    "topOvertimeCutoff = data[data.columns[6]].quantile(.05)\n",
    "#create a column to identify if employee earned more in overtime than the 5% salary cutoff\n",
    "data['Not Top Overtime'] = data['Overtime'] < topOvertimeCutoff\n",
    "#drop all employees that are not in the top overtime earners\n",
    "data = data.drop(data[data['Not Top Overtime']].index)\n",
    "#drop column used to determine if employee was a top overtime earner\n",
    "data.drop(data.columns[-1], axis = 1, inplace = True)"
   ]
  },
  {
   "cell_type": "code",
   "execution_count": 8,
   "metadata": {
    "collapsed": false
   },
   "outputs": [],
   "source": [
    "#merge job family back into table\n",
    "data = data.merge(employees, on='Employee Identifier')"
   ]
  },
  {
   "cell_type": "code",
   "execution_count": 9,
   "metadata": {
    "collapsed": false
   },
   "outputs": [],
   "source": [
    "#group data by Job Family\n",
    "data = data.groupby('Job Family').mean()"
   ]
  },
  {
   "cell_type": "code",
   "execution_count": 10,
   "metadata": {
    "collapsed": false
   },
   "outputs": [],
   "source": [
    "#drop unnecessary columns\n",
    "data.drop(data.columns[0:10], axis = 1, inplace = True)\n",
    "data.drop(data.columns[2], axis = 1, inplace = True)"
   ]
  },
  {
   "cell_type": "code",
   "execution_count": 11,
   "metadata": {
    "collapsed": true
   },
   "outputs": [],
   "source": [
    "#calculate benefits percentage as a function of total compensation\n",
    "data['Percent_Total_Benefit'] = 100*(data['Total Benefits']/data['Total Compensation'])"
   ]
  },
  {
   "cell_type": "code",
   "execution_count": 12,
   "metadata": {
    "collapsed": false
   },
   "outputs": [],
   "source": [
    "#sort by this percentage\n",
    "data = data.sort_values(by='Percent_Total_Benefit', ascending = False)"
   ]
  },
  {
   "cell_type": "code",
   "execution_count": 13,
   "metadata": {
    "collapsed": true
   },
   "outputs": [],
   "source": [
    "#output data to csv\n",
    "data.to_csv('./Output/Question2Part2Output.csv')"
   ]
  },
  {
   "cell_type": "code",
   "execution_count": 14,
   "metadata": {
    "collapsed": false
   },
   "outputs": [
    {
     "data": {
      "text/html": [
       "<div>\n",
       "<table border=\"1\" class=\"dataframe\">\n",
       "  <thead>\n",
       "    <tr style=\"text-align: right;\">\n",
       "      <th></th>\n",
       "      <th>Total Benefits</th>\n",
       "      <th>Total Compensation</th>\n",
       "      <th>Percent_Total_Benefit</th>\n",
       "    </tr>\n",
       "    <tr>\n",
       "      <th>Job Family</th>\n",
       "      <th></th>\n",
       "      <th></th>\n",
       "      <th></th>\n",
       "    </tr>\n",
       "  </thead>\n",
       "  <tbody>\n",
       "    <tr>\n",
       "      <th>Public Service Aide</th>\n",
       "      <td>17485.281299</td>\n",
       "      <td>50604.550423</td>\n",
       "      <td>34.552785</td>\n",
       "    </tr>\n",
       "    <tr>\n",
       "      <th>Park &amp; Zoo</th>\n",
       "      <td>26333.767788</td>\n",
       "      <td>78310.809135</td>\n",
       "      <td>33.627245</td>\n",
       "    </tr>\n",
       "    <tr>\n",
       "      <th>Museum &amp; Cultural Affairs</th>\n",
       "      <td>27037.390000</td>\n",
       "      <td>83926.070000</td>\n",
       "      <td>32.215723</td>\n",
       "    </tr>\n",
       "    <tr>\n",
       "      <th>Revenue</th>\n",
       "      <td>25141.252187</td>\n",
       "      <td>79261.992500</td>\n",
       "      <td>31.719178</td>\n",
       "    </tr>\n",
       "    <tr>\n",
       "      <th>Housekeeping &amp; Laundry</th>\n",
       "      <td>27719.475614</td>\n",
       "      <td>89219.755259</td>\n",
       "      <td>31.068764</td>\n",
       "    </tr>\n",
       "  </tbody>\n",
       "</table>\n",
       "</div>"
      ],
      "text/plain": [
       "                           Total Benefits  Total Compensation  \\\n",
       "Job Family                                                      \n",
       "Public Service Aide          17485.281299        50604.550423   \n",
       "Park & Zoo                   26333.767788        78310.809135   \n",
       "Museum & Cultural Affairs    27037.390000        83926.070000   \n",
       "Revenue                      25141.252187        79261.992500   \n",
       "Housekeeping & Laundry       27719.475614        89219.755259   \n",
       "\n",
       "                           Percent_Total_Benefit  \n",
       "Job Family                                        \n",
       "Public Service Aide                    34.552785  \n",
       "Park & Zoo                             33.627245  \n",
       "Museum & Cultural Affairs              32.215723  \n",
       "Revenue                                31.719178  \n",
       "Housekeeping & Laundry                 31.068764  "
      ]
     },
     "execution_count": 14,
     "metadata": {},
     "output_type": "execute_result"
    }
   ],
   "source": [
    "#print top few rows of data\n",
    "data.head()"
   ]
  }
 ],
 "metadata": {
  "kernelspec": {
   "display_name": "Python [default]",
   "language": "python",
   "name": "python3"
  },
  "language_info": {
   "codemirror_mode": {
    "name": "ipython",
    "version": 3
   },
   "file_extension": ".py",
   "mimetype": "text/x-python",
   "name": "python",
   "nbconvert_exporter": "python",
   "pygments_lexer": "ipython3",
   "version": "3.5.2"
  }
 },
 "nbformat": 4,
 "nbformat_minor": 1
}
