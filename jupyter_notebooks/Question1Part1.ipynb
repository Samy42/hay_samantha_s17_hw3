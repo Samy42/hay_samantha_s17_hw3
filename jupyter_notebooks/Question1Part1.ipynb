{
 "cells": [
  {
   "cell_type": "code",
   "execution_count": 1,
   "metadata": {
    "collapsed": true
   },
   "outputs": [],
   "source": [
    "import pandas"
   ]
  },
  {
   "cell_type": "code",
   "execution_count": 2,
   "metadata": {
    "collapsed": false
   },
   "outputs": [],
   "source": [
    "#read in csv to pandas data frame\n",
    "df = pandas.read_csv('./Data/vehicle_collisions.csv')"
   ]
  },
  {
   "cell_type": "code",
   "execution_count": 3,
   "metadata": {
    "collapsed": false
   },
   "outputs": [],
   "source": [
    "#create a data frame to convert numeric months to text\n",
    "monthLookup = pandas.DataFrame(['Jan','Feb','Mar','Apr','May','Jun','Jul','Aug','Sep','Oct','Nov','Dec'], index=['1','2','3','4','5','6','7','8','9','10','11','12'], columns = ['Month'])"
   ]
  },
  {
   "cell_type": "code",
   "execution_count": 4,
   "metadata": {
    "collapsed": false
   },
   "outputs": [],
   "source": [
    "#this function takes in a date in string format mm/dd/yyyy and outputs the text of the month name\n",
    "def strDateToMonth(d):\n",
    "    if d[1] == '/':\n",
    "        month = d[0]\n",
    "    else:\n",
    "        month = d[0:2]\n",
    "        \n",
    "    return monthLookup['Month'][month]"
   ]
  },
  {
   "cell_type": "code",
   "execution_count": 5,
   "metadata": {
    "collapsed": false
   },
   "outputs": [],
   "source": [
    "#adds a column to main data frame with the name of the month\n",
    "df['MONTH'] = df['DATE'].apply(strDateToMonth)"
   ]
  },
  {
   "cell_type": "code",
   "execution_count": 6,
   "metadata": {
    "collapsed": false
   },
   "outputs": [],
   "source": [
    "#create a new data frame for formatted output\n",
    "data = pandas.DataFrame()"
   ]
  },
  {
   "cell_type": "code",
   "execution_count": 7,
   "metadata": {
    "collapsed": false
   },
   "outputs": [],
   "source": [
    "#load in a column of the month names\n",
    "data['MONTH'] = ['Jan','Feb','Mar','Apr','May','Jun','Jul','Aug','Sep','Oct','Nov','Dec']"
   ]
  },
  {
   "cell_type": "code",
   "execution_count": 8,
   "metadata": {
    "collapsed": false
   },
   "outputs": [],
   "source": [
    "#create a new data frame counting the total accidents per month\n",
    "NYCcount = df.groupby('MONTH', sort = False).size().to_frame()\n",
    "NYCcount['MONTH'] = NYCcount.index\n",
    "NYCcount = NYCcount.rename(index=str, columns={0:'NYC'})"
   ]
  },
  {
   "cell_type": "code",
   "execution_count": 9,
   "metadata": {
    "collapsed": false,
    "scrolled": true
   },
   "outputs": [],
   "source": [
    "#create a new data frame counting the total accidents per month in manhattan\n",
    "MANcount = df.groupby(('BOROUGH','MONTH'), sort = False).size().reset_index()\n",
    "MANcount = MANcount.loc[MANcount['BOROUGH'] == 'MANHATTAN']\n",
    "MANcount = MANcount.rename(index=str, columns={0:'MANHATTAN'})"
   ]
  },
  {
   "cell_type": "code",
   "execution_count": 10,
   "metadata": {
    "collapsed": false
   },
   "outputs": [],
   "source": [
    "#merge the NYC and Manhattan counts into the output data frame\n",
    "data = pandas.merge(data,MANcount)\n",
    "data = pandas.merge(data,NYCcount)\n",
    "data.drop('BOROUGH',axis=1, inplace=True)"
   ]
  },
  {
   "cell_type": "code",
   "execution_count": 11,
   "metadata": {
    "collapsed": false
   },
   "outputs": [],
   "source": [
    "#calculate the percentage of accidents in manhattan for each month\n",
    "data['PERCENTAGE'] = data['MANHATTAN']/data['NYC']\n",
    "#output the correctly formatted values to a new csv\n",
    "data.to_csv('./Output/Question1Part1Output.csv')"
   ]
  },
  {
   "cell_type": "code",
   "execution_count": 12,
   "metadata": {
    "collapsed": false
   },
   "outputs": [
    {
     "name": "stdout",
     "output_type": "stream",
     "text": [
      "  MONTH  MANHATTAN    NYC  PERCENTAGE\n",
      "0   Jan       8348  51464    0.162210\n",
      "1   Feb       7949  47042    0.168977\n",
      "2   Mar       6875  36410    0.188822\n",
      "3   Apr       7061  35112    0.201099\n",
      "4   May       7311  39309    0.185988\n"
     ]
    }
   ],
   "source": [
    "#print the first 5 rows of the output\n",
    "print(data.head().to_string())"
   ]
  }
 ],
 "metadata": {
  "anaconda-cloud": {},
  "kernelspec": {
   "display_name": "Python [conda root]",
   "language": "python",
   "name": "conda-root-py"
  },
  "language_info": {
   "codemirror_mode": {
    "name": "ipython",
    "version": 3
   },
   "file_extension": ".py",
   "mimetype": "text/x-python",
   "name": "python",
   "nbconvert_exporter": "python",
   "pygments_lexer": "ipython3",
   "version": "3.5.2"
  }
 },
 "nbformat": 4,
 "nbformat_minor": 1
}
