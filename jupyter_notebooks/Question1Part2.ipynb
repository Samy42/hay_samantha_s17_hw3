{
 "cells": [
  {
   "cell_type": "code",
   "execution_count": 1,
   "metadata": {
    "collapsed": true
   },
   "outputs": [],
   "source": [
    "import pandas\n",
    "import numpy"
   ]
  },
  {
   "cell_type": "code",
   "execution_count": 2,
   "metadata": {
    "collapsed": true
   },
   "outputs": [],
   "source": [
    "# import csv\n",
    "df = pandas.read_csv('./Data/vehicle_collisions.csv')"
   ]
  },
  {
   "cell_type": "code",
   "execution_count": 3,
   "metadata": {
    "collapsed": true
   },
   "outputs": [],
   "source": [
    "# remove unnecessary columns from data\n",
    "df.drop(df.columns[0:3], axis = 1, inplace = True)\n",
    "df.drop(df.columns[1:16], axis = 1, inplace = True)\n",
    "df.drop(df.columns[-5:], axis = 1, inplace = True)"
   ]
  },
  {
   "cell_type": "code",
   "execution_count": 4,
   "metadata": {
    "collapsed": false
   },
   "outputs": [],
   "source": [
    "#group the data by the borough\n",
    "data = df.groupby('BOROUGH')\n",
    "data = data.count()"
   ]
  },
  {
   "cell_type": "code",
   "execution_count": 5,
   "metadata": {
    "collapsed": false
   },
   "outputs": [],
   "source": [
    "#rename the columns to reflect the number of vehicles involved\n",
    "data.rename(index=str, columns={'VEHICLE 1 TYPE':'ONE_VEHICLE_INVOLVED','VEHICLE 2 TYPE':'TWO_VEHICLES_INVOLVED','VEHICLE 3 TYPE':'THREE_VEHICLES_INVOLVED','VEHICLE 4 TYPE':'MORE_VEHICLES_INVOLVED','VEHICLE 5 TYPE':'FIVE_VEHICLES_INVOLVED'},inplace = True)"
   ]
  },
  {
   "cell_type": "code",
   "execution_count": 6,
   "metadata": {
    "collapsed": false
   },
   "outputs": [],
   "source": [
    "#data was in num(or more) involved so subtracting next column from each entry\n",
    "data['ONE_VEHICLE_INVOLVED'] = data['ONE_VEHICLE_INVOLVED'] - data['TWO_VEHICLES_INVOLVED']\n",
    "data['TWO_VEHICLES_INVOLVED'] = data['TWO_VEHICLES_INVOLVED'] - data['THREE_VEHICLES_INVOLVED']\n",
    "data['THREE_VEHICLES_INVOLVED'] = data['THREE_VEHICLES_INVOLVED'] - data['MORE_VEHICLES_INVOLVED']"
   ]
  },
  {
   "cell_type": "code",
   "execution_count": 7,
   "metadata": {
    "collapsed": false
   },
   "outputs": [],
   "source": [
    "#remove last column as that is not necessary\n",
    "data.drop('FIVE_VEHICLES_INVOLVED',axis=1, inplace = True)"
   ]
  },
  {
   "cell_type": "code",
   "execution_count": 8,
   "metadata": {
    "collapsed": false
   },
   "outputs": [],
   "source": [
    "#print the data to a csv file\n",
    "data.to_csv('./Output/Question1Part2Output.csv')"
   ]
  },
  {
   "cell_type": "code",
   "execution_count": 9,
   "metadata": {
    "collapsed": false
   },
   "outputs": [
    {
     "name": "stdout",
     "output_type": "stream",
     "text": [
      "               ONE_VEHICLE_INVOLVED  TWO_VEHICLES_INVOLVED  THREE_VEHICLES_INVOLVED  MORE_VEHICLES_INVOLVED\n",
      "BOROUGH                                                                                                    \n",
      "BRONX                          8627                  34385                     1962                     625\n",
      "BROOKLYN                      17375                  80207                     4980                    1612\n",
      "MANHATTAN                     13318                  66958                     2024                     501\n",
      "QUEENS                        12962                  70260                     4498                    1420\n",
      "STATEN ISLAND                  2343                  10676                      759                     165\n"
     ]
    }
   ],
   "source": [
    "#print the first few rows to verify output\n",
    "print(data.head().to_string())"
   ]
  }
 ],
 "metadata": {
  "anaconda-cloud": {},
  "kernelspec": {
   "display_name": "Python [default]",
   "language": "python",
   "name": "python3"
  },
  "language_info": {
   "codemirror_mode": {
    "name": "ipython",
    "version": 3
   },
   "file_extension": ".py",
   "mimetype": "text/x-python",
   "name": "python",
   "nbconvert_exporter": "python",
   "pygments_lexer": "ipython3",
   "version": "3.5.2"
  }
 },
 "nbformat": 4,
 "nbformat_minor": 1
}
