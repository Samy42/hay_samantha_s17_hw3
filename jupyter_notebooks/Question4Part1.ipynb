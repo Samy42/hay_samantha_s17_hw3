{
 "cells": [
  {
   "cell_type": "code",
   "execution_count": 1,
   "metadata": {
    "collapsed": true
   },
   "outputs": [],
   "source": [
    "import pandas\n",
    "import numpy\n",
    "import re"
   ]
  },
  {
   "cell_type": "code",
   "execution_count": 2,
   "metadata": {
    "collapsed": false
   },
   "outputs": [],
   "source": [
    "#import data\n",
    "df = pandas.read_csv('./Data/movies_awards.csv')"
   ]
  },
  {
   "cell_type": "code",
   "execution_count": 3,
   "metadata": {
    "collapsed": false
   },
   "outputs": [],
   "source": [
    "#drop unimportant columns\n",
    "df.drop(df.columns[0:5], axis = 1, inplace = True)\n",
    "df.drop(df.columns[1:10], axis = 1, inplace = True)\n",
    "df.drop(df.columns[2:7], axis = 1, inplace = True)"
   ]
  },
  {
   "cell_type": "code",
   "execution_count": 4,
   "metadata": {
    "collapsed": true
   },
   "outputs": [],
   "source": [
    "# add in blank columns for the awards\n",
    "df['Awards_won'] = 0\n",
    "df['Awards_nominated'] = 0\n",
    "df['Prime_Awards_won'] = 0\n",
    "df['Prime_Awards_nominated'] = 0\n",
    "df['Oscars_Awards_won'] = 0\n",
    "df['Oscars_Awards_nominated'] = 0\n",
    "df['Golden_Globe_Awards_won'] = 0\n",
    "df['Golden_Globe_Awards_nominated'] = 0\n",
    "df['BAFTA_Awards_won'] = 0\n",
    "df['BAFTA_Awards_nominated'] = 0"
   ]
  },
  {
   "cell_type": "code",
   "execution_count": 5,
   "metadata": {
    "collapsed": true
   },
   "outputs": [],
   "source": [
    "#this takes in a string and extracts the set of awards indicated by that string\n",
    "def extractAwards(awardString):\n",
    "    #split string into substrings\n",
    "    awardString = awardString.replace('. ',',')\n",
    "    awardString = awardString.replace('& ',',')\n",
    "    awardString = awardString.split(',')\n",
    "    \n",
    "    \n",
    "    return [intrepretAward(a) for a in awardString]"
   ]
  },
  {
   "cell_type": "code",
   "execution_count": 6,
   "metadata": {
    "collapsed": false
   },
   "outputs": [],
   "source": [
    "#this takes in a substring which contains an award type and count, and extracts that information\n",
    "def intrepretAward(awardSubString):\n",
    "    #split string into words\n",
    "    words = awardSubString.split(' ')\n",
    "    winType = 'win(s)' #default = win, unless otherwise found\n",
    "    number = 0 #number of awards = 0 until found otherwise\n",
    "    \n",
    "    #make strings lowercase to limit iterations\n",
    "    #also deletes trailing period and finds the number of awards\n",
    "    for w in range(len(words)):\n",
    "        if len(words[w]):\n",
    "            words[w] = words[w].lower()\n",
    "            if words[w][-1] == '.':\n",
    "                words[w].replace('.','')\n",
    "            if words[w].isdigit():\n",
    "                number = words[w]\n",
    "    \n",
    "    #determine award type\n",
    "    awardType = 'unknown'\n",
    "    if words.count('primetime'):\n",
    "        awardType = 'Prime'\n",
    "    if words.count('oscar') or words.count('oscars'):\n",
    "        awardType = 'Oscars'\n",
    "    if words.count('golden'):\n",
    "        awardType = 'Golden_Globe' \n",
    "    if words.count('bafta'):\n",
    "        awardType = 'BAFTA'\n",
    "    \n",
    "    \n",
    "    #wins or nominations\n",
    "    if words.count('nomination') or words.count('nomination.') or words.count('nominations.') or words.count('nominated.') or words.count('nominations') or words.count('nominated'):\n",
    "        winType = 'nomination(s)'\n",
    "            \n",
    "    return [awardType,winType,number]"
   ]
  },
  {
   "cell_type": "code",
   "execution_count": 7,
   "metadata": {
    "collapsed": false
   },
   "outputs": [],
   "source": [
    "#turning off warning as the code is working as intended\n",
    "pandas.options.mode.chained_assignment = None\n",
    "\n",
    "for row in range(len(df['Title'])):\n",
    "    #iterates over each row in the data frame\n",
    "    \n",
    "    #check if row contains a valid string to parse, then send it to be parsed\n",
    "    if type(df['Awards'][row]) == str:\n",
    "        awards = extractAwards(df['Awards'][row])\n",
    "\n",
    "        for a in range(len(awards)):\n",
    "            column= '' #start with a null column\n",
    "            if awards[a][-1]:\n",
    "                if awards[a][0] != 'unknown':\n",
    "                    #add in the award name to the column to find the correct column\n",
    "                    column = awards[a][0] + '_' \n",
    "                column = column + 'Awards'\n",
    "\n",
    "                # pick correct column based on if award was won or just nominated\n",
    "                if awards[a][1] == 'win(s)':\n",
    "                    column = column + '_won'\n",
    "                else:\n",
    "                    column = column + '_nominated'\n",
    "\n",
    "                # put the number of awards into the correct column\n",
    "                df[column][row] = awards[a][-1]\n",
    "        "
   ]
  },
  {
   "cell_type": "code",
   "execution_count": 8,
   "metadata": {
    "collapsed": true
   },
   "outputs": [],
   "source": [
    "# add specific awards won or nomated to the total awards won or nominated\n",
    "df['Awards_won'] = df['Awards_won'] + df['Prime_Awards_won'] + df['Oscars_Awards_won'] + df['Golden_Globe_Awards_won'] + df['BAFTA_Awards_won']\n",
    "\n",
    "df['Awards_nominated'] = df['Awards_nominated'] + df['Prime_Awards_nominated'] + df['Oscars_Awards_nominated'] + df['Golden_Globe_Awards_nominated'] + df['BAFTA_Awards_nominated']"
   ]
  },
  {
   "cell_type": "code",
   "execution_count": 9,
   "metadata": {
    "collapsed": false
   },
   "outputs": [],
   "source": [
    "#print data to csv\n",
    "df.to_csv('./Output/Question4Part1Output.csv')"
   ]
  },
  {
   "cell_type": "code",
   "execution_count": 10,
   "metadata": {
    "collapsed": false
   },
   "outputs": [
    {
     "name": "stdout",
     "output_type": "stream",
     "text": [
      "                                               Title                  Awards  Awards_won  Awards_nominated  Prime_Awards_won  Prime_Awards_nominated  Oscars_Awards_won  Oscars_Awards_nominated  Golden_Globe_Awards_won  Golden_Globe_Awards_nominated  BAFTA_Awards_won  BAFTA_Awards_nominated\n",
      "0  Book of Love: The Definitive Reason Why Men Ar...                     NaN           0                 0                 0                       0                  0                        0                        0                              0                 0                       0\n",
      "1                              Anderssons älskarinna                     NaN           0                 0                 0                       0                  0                        0                        0                              0                 0                       0\n",
      "2                                          Bad Blood                     NaN           0                 0                 0                       0                  0                        0                        0                              0                 0                       0\n",
      "3                                       Who Are You?  1 win & 2 nominations.           1                 2                 0                       0                  0                        0                        0                              0                 0                       0\n",
      "4                            Skeletons in the Closet                  1 win.           1                 0                 0                       0                  0                        0                        0                              0                 0                       0\n"
     ]
    }
   ],
   "source": [
    "#print first few rows of data\n",
    "print(df.head().to_string())"
   ]
  }
 ],
 "metadata": {
  "anaconda-cloud": {},
  "kernelspec": {
   "display_name": "Python [conda root]",
   "language": "python",
   "name": "conda-root-py"
  },
  "language_info": {
   "codemirror_mode": {
    "name": "ipython",
    "version": 3
   },
   "file_extension": ".py",
   "mimetype": "text/x-python",
   "name": "python",
   "nbconvert_exporter": "python",
   "pygments_lexer": "ipython3",
   "version": "3.5.2"
  }
 },
 "nbformat": 4,
 "nbformat_minor": 1
}
