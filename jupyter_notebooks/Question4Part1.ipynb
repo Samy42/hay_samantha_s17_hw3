{
 "cells": [
  {
   "cell_type": "code",
   "execution_count": 1,
   "metadata": {
    "collapsed": true
   },
   "outputs": [],
   "source": [
    "import pandas\n",
    "import numpy\n",
    "import re\n",
    "import pprint"
   ]
  },
  {
   "cell_type": "code",
   "execution_count": 2,
   "metadata": {
    "collapsed": false
   },
   "outputs": [],
   "source": [
    "df = pandas.read_csv('./Data/movies_awards.csv')"
   ]
  },
  {
   "cell_type": "code",
   "execution_count": 3,
   "metadata": {
    "collapsed": false
   },
   "outputs": [
    {
     "data": {
      "text/html": [
       "<div>\n",
       "<table border=\"1\" class=\"dataframe\">\n",
       "  <thead>\n",
       "    <tr style=\"text-align: right;\">\n",
       "      <th></th>\n",
       "      <th>Title</th>\n",
       "      <th>Awards</th>\n",
       "    </tr>\n",
       "  </thead>\n",
       "  <tbody>\n",
       "    <tr>\n",
       "      <th>0</th>\n",
       "      <td>Book of Love: The Definitive Reason Why Men Ar...</td>\n",
       "      <td>NaN</td>\n",
       "    </tr>\n",
       "    <tr>\n",
       "      <th>1</th>\n",
       "      <td>Anderssons älskarinna</td>\n",
       "      <td>NaN</td>\n",
       "    </tr>\n",
       "    <tr>\n",
       "      <th>2</th>\n",
       "      <td>Bad Blood</td>\n",
       "      <td>NaN</td>\n",
       "    </tr>\n",
       "    <tr>\n",
       "      <th>3</th>\n",
       "      <td>Who Are You?</td>\n",
       "      <td>1 win &amp; 2 nominations.</td>\n",
       "    </tr>\n",
       "    <tr>\n",
       "      <th>4</th>\n",
       "      <td>Skeletons in the Closet</td>\n",
       "      <td>1 win.</td>\n",
       "    </tr>\n",
       "  </tbody>\n",
       "</table>\n",
       "</div>"
      ],
      "text/plain": [
       "                                               Title                  Awards\n",
       "0  Book of Love: The Definitive Reason Why Men Ar...                     NaN\n",
       "1                              Anderssons älskarinna                     NaN\n",
       "2                                          Bad Blood                     NaN\n",
       "3                                       Who Are You?  1 win & 2 nominations.\n",
       "4                            Skeletons in the Closet                  1 win."
      ]
     },
     "execution_count": 3,
     "metadata": {},
     "output_type": "execute_result"
    }
   ],
   "source": [
    "df.drop(df.columns[0:5], axis = 1, inplace = True)\n",
    "df.drop(df.columns[1:10], axis = 1, inplace = True)\n",
    "df.drop(df.columns[2:7], axis = 1, inplace = True)\n",
    "df.head()"
   ]
  },
  {
   "cell_type": "code",
   "execution_count": 4,
   "metadata": {
    "collapsed": true
   },
   "outputs": [],
   "source": [
    "df['Awards_won'] = 0\n",
    "df['Awards_nominated'] = 0\n",
    "df['Prime_Awards_won'] = 0\n",
    "df['Prime_Awards_nominated'] = 0\n",
    "df['Oscars_Awards_won'] = 0\n",
    "df['Oscars_Awards_nominated'] = 0\n",
    "df['Golden_Globe_Awards_won'] = 0\n",
    "df['Golden_Globe_Awards_nominated'] = 0\n",
    "df['BAFTA_Awards_won'] = 0\n",
    "df['BAFTA_Awards_nominated'] = 0"
   ]
  },
  {
   "cell_type": "code",
   "execution_count": 5,
   "metadata": {
    "collapsed": true
   },
   "outputs": [],
   "source": [
    "def extractAwards(awardString):\n",
    "    #split string into substrings\n",
    "    awardString = awardString.replace('. ',',')\n",
    "    awardString = awardString.replace('& ',',')\n",
    "    awardString = awardString.split(',')\n",
    "    \n",
    "    \n",
    "    return [intrepretAward(a) for a in awardString]"
   ]
  },
  {
   "cell_type": "code",
   "execution_count": 6,
   "metadata": {
    "collapsed": false
   },
   "outputs": [],
   "source": [
    "def intrepretAward(awardSubString):\n",
    "    #split string into words\n",
    "    words = awardSubString.split(' ')\n",
    "    winType = 'win(s)'\n",
    "    number = 0\n",
    "    \n",
    "    #make strings lowercase to limit iterations\n",
    "    #also deletes trailing period and finds the number of awards\n",
    "    for w in range(len(words)):\n",
    "        if len(words[w]):\n",
    "            words[w] = words[w].lower()\n",
    "            if words[w][-1] == '.':\n",
    "                words[w].replace('.','')\n",
    "            if words[w].isdigit():\n",
    "                number = words[w]\n",
    "    \n",
    "    #determine award type\n",
    "    awardType = 'unknown'\n",
    "    if words.count('primetime'):\n",
    "        awardType = 'Prime'\n",
    "    if words.count('oscar') or words.count('oscars'):\n",
    "        awardType = 'Oscars'\n",
    "    if words.count('golden'):\n",
    "        awardType = 'Golden_Globe' \n",
    "    if words.count('bafta'):\n",
    "        awardType = 'BAFTA'\n",
    "    \n",
    "    \n",
    "    #wins or nominations\n",
    "    if words.count('nomination') or words.count('nominations') or words.count('nominated'):\n",
    "        winType = 'nomination(s)'\n",
    "            \n",
    "    return [awardType,winType,number]"
   ]
  },
  {
   "cell_type": "code",
   "execution_count": 7,
   "metadata": {
    "collapsed": false
   },
   "outputs": [],
   "source": [
    "pandas.options.mode.chained_assignment = None\n",
    "for row in range(len(df['Title'])):\n",
    "    \n",
    "    if type(df['Awards'][row]) == str:\n",
    "        awards = extractAwards(df['Awards'][row])\n",
    "\n",
    "        for a in range(len(awards)):\n",
    "            column= ''\n",
    "            if awards[a][-1]:\n",
    "                if awards[a][0] != 'unknown':\n",
    "                    column = awards[a][0] + '_'\n",
    "                column = column + 'Awards'\n",
    "\n",
    "                if awards[a][1] == 'win(s)':\n",
    "                    column = column + '_won'\n",
    "                else:\n",
    "                    column = column + '_nominated'\n",
    "\n",
    "                df[column][row] = awards[a][-1]\n",
    "        "
   ]
  },
  {
   "cell_type": "code",
   "execution_count": 8,
   "metadata": {
    "collapsed": true
   },
   "outputs": [],
   "source": [
    "df.to_csv('./Output/Question4Part1Output.csv')"
   ]
  },
  {
   "cell_type": "code",
   "execution_count": 9,
   "metadata": {
    "collapsed": false
   },
   "outputs": [
    {
     "name": "stdout",
     "output_type": "stream",
     "text": [
      "                                               Title                  Awards  Awards_won  Awards_nominated  Prime_Awards_won  Prime_Awards_nominated  Oscars_Awards_won  Oscars_Awards_nominated  Golden_Globe_Awards_won  Golden_Globe_Awards_nominated  BAFTA_Awards_won  BAFTA_Awards_nominated\n",
      "0  Book of Love: The Definitive Reason Why Men Ar...                     NaN           0                 0                 0                       0                  0                        0                        0                              0                 0                       0\n",
      "1                              Anderssons älskarinna                     NaN           0                 0                 0                       0                  0                        0                        0                              0                 0                       0\n",
      "2                                          Bad Blood                     NaN           0                 0                 0                       0                  0                        0                        0                              0                 0                       0\n",
      "3                                       Who Are You?  1 win & 2 nominations.           2                 0                 0                       0                  0                        0                        0                              0                 0                       0\n",
      "4                            Skeletons in the Closet                  1 win.           1                 0                 0                       0                  0                        0                        0                              0                 0                       0\n"
     ]
    }
   ],
   "source": [
    "print(df.head().to_string())"
   ]
  }
 ],
 "metadata": {
  "anaconda-cloud": {},
  "kernelspec": {
   "display_name": "Python [conda root]",
   "language": "python",
   "name": "conda-root-py"
  },
  "language_info": {
   "codemirror_mode": {
    "name": "ipython",
    "version": 3
   },
   "file_extension": ".py",
   "mimetype": "text/x-python",
   "name": "python",
   "nbconvert_exporter": "python",
   "pygments_lexer": "ipython3",
   "version": "3.5.2"
  }
 },
 "nbformat": 4,
 "nbformat_minor": 1
}
