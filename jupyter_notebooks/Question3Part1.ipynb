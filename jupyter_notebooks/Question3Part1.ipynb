{
 "cells": [
  {
   "cell_type": "code",
   "execution_count": 1,
   "metadata": {
    "collapsed": true
   },
   "outputs": [],
   "source": [
    "import pandas"
   ]
  },
  {
   "cell_type": "code",
   "execution_count": 2,
   "metadata": {
    "collapsed": true
   },
   "outputs": [],
   "source": [
    "#import data\n",
    "df = pandas.read_csv('./Data/cricket_matches.csv')"
   ]
  },
  {
   "cell_type": "code",
   "execution_count": 3,
   "metadata": {
    "collapsed": false
   },
   "outputs": [],
   "source": [
    "#drop all unnecessary columns\n",
    "df.drop(df.columns[0:6], axis = 1, inplace = True)\n",
    "df.drop(df.columns[3:5], axis = 1, inplace = True)\n",
    "df.drop(df.columns[3:4], axis = 1, inplace = True)\n",
    "df.drop(df.columns[5:8], axis = 1, inplace = True)\n",
    "df.drop(df.columns[7:12], axis = 1, inplace = True)"
   ]
  },
  {
   "cell_type": "code",
   "execution_count": 4,
   "metadata": {
    "collapsed": false
   },
   "outputs": [],
   "source": [
    "#add boolean column with value if home team lost\n",
    "df['NotHomeWinner'] = df['home'] != df['winner']\n",
    "\n",
    "#remove all rows where the home team lost\n",
    "df = df.drop(df[df['NotHomeWinner']].index)\n",
    "\n",
    "#delete the column added with home team win data as it is now unnecessary\n",
    "df.drop(df.columns[-1], axis = 1, inplace = True)"
   ]
  },
  {
   "cell_type": "code",
   "execution_count": 5,
   "metadata": {
    "collapsed": false
   },
   "outputs": [],
   "source": [
    "#get winning team's score\n",
    "df['Score'] = df[['innings1_runs','innings2_runs']].max(axis=1)"
   ]
  },
  {
   "cell_type": "code",
   "execution_count": 6,
   "metadata": {
    "collapsed": false
   },
   "outputs": [],
   "source": [
    "#drop all but the last column\n",
    "df.drop(df.columns[1:-1], axis = 1, inplace = True)"
   ]
  },
  {
   "cell_type": "code",
   "execution_count": 7,
   "metadata": {
    "collapsed": true
   },
   "outputs": [],
   "source": [
    "#group the data by the home team and average their winning scores\n",
    "df = df.groupby('home').mean()"
   ]
  },
  {
   "cell_type": "code",
   "execution_count": 8,
   "metadata": {
    "collapsed": true
   },
   "outputs": [],
   "source": [
    "#print data to csv\n",
    "df.to_csv('./Output/Question3Part1Output.csv')"
   ]
  },
  {
   "cell_type": "code",
   "execution_count": 9,
   "metadata": {
    "collapsed": false
   },
   "outputs": [
    {
     "name": "stdout",
     "output_type": "stream",
     "text": [
      "                         Score\n",
      "home                          \n",
      "Abahani Limited     172.000000\n",
      "Abbottabad Falcons  139.454545\n",
      "Abbottabad Region   182.666667\n",
      "Abbottabad Rhinos   165.000000\n",
      "Adelaide Strikers   163.111111\n"
     ]
    }
   ],
   "source": [
    "#print top 5 rows\n",
    "print(df.head().to_string())"
   ]
  }
 ],
 "metadata": {
  "anaconda-cloud": {},
  "kernelspec": {
   "display_name": "Python [conda root]",
   "language": "python",
   "name": "conda-root-py"
  },
  "language_info": {
   "codemirror_mode": {
    "name": "ipython",
    "version": 3
   },
   "file_extension": ".py",
   "mimetype": "text/x-python",
   "name": "python",
   "nbconvert_exporter": "python",
   "pygments_lexer": "ipython3",
   "version": "3.5.2"
  }
 },
 "nbformat": 4,
 "nbformat_minor": 1
}
